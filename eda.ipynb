{
 "cells": [
  {
   "cell_type": "code",
   "execution_count": 1,
   "id": "1c7da5e3-77f9-490c-bd60-82fc7143ffe7",
   "metadata": {},
   "outputs": [],
   "source": [
    "import pandas as pd\n",
    "import matplotlib.pyplot as plt\n",
    "import seaborn as sns\n",
    "import numpy as np"
   ]
  },
  {
   "cell_type": "code",
   "execution_count": 2,
   "id": "4a2cfcc8-e7e4-41f0-88d9-ab190221953c",
   "metadata": {},
   "outputs": [],
   "source": [
    "data = pd.read_csv('monthly_data_10.csv')"
   ]
  },
  {
   "cell_type": "code",
   "execution_count": 107,
   "id": "50edfd24-0bb7-44f8-8365-d43f8d6ac718",
   "metadata": {},
   "outputs": [],
   "source": [
    "X = data.drop(['raw_target', 'target_encoded'], axis = 1)\n",
    "X = X.drop(['promotion', 'product'], axis = 1) #temporary, until I figure out how to unnest and access that data "
   ]
  },
  {
   "cell_type": "code",
   "execution_count": 107,
   "id": "afa43f57-5ed1-4e76-a036-7662c52be124",
   "metadata": {},
   "outputs": [],
   "source": []
  },
  {
   "cell_type": "code",
   "execution_count": 38,
   "id": "a891750d-3792-4407-b375-41dc75818d3b",
   "metadata": {},
   "outputs": [],
   "source": [
    "raw_target = data['raw_target']\n",
    "binary_target = data['target_encoded'] "
   ]
  },
  {
   "cell_type": "code",
   "execution_count": 56,
   "id": "1cde8f2d-f256-4398-b579-6e18269dff51",
   "metadata": {},
   "outputs": [
    {
     "data": {
      "text/html": [
       "<div>\n",
       "<style scoped>\n",
       "    .dataframe tbody tr th:only-of-type {\n",
       "        vertical-align: middle;\n",
       "    }\n",
       "\n",
       "    .dataframe tbody tr th {\n",
       "        vertical-align: top;\n",
       "    }\n",
       "\n",
       "    .dataframe thead th {\n",
       "        text-align: right;\n",
       "    }\n",
       "</style>\n",
       "<table border=\"1\" class=\"dataframe\">\n",
       "  <thead>\n",
       "    <tr style=\"text-align: right;\">\n",
       "      <th></th>\n",
       "      <th>count</th>\n",
       "      <th>percent</th>\n",
       "    </tr>\n",
       "    <tr>\n",
       "      <th>raw_target</th>\n",
       "      <th></th>\n",
       "      <th></th>\n",
       "    </tr>\n",
       "  </thead>\n",
       "  <tbody>\n",
       "    <tr>\n",
       "      <th>Quickview Click</th>\n",
       "      <td>31025</td>\n",
       "      <td>49.543291</td>\n",
       "    </tr>\n",
       "    <tr>\n",
       "      <th>Promotion Click</th>\n",
       "      <td>13014</td>\n",
       "      <td>20.781834</td>\n",
       "    </tr>\n",
       "    <tr>\n",
       "      <th>Add to Cart</th>\n",
       "      <td>9107</td>\n",
       "      <td>14.542812</td>\n",
       "    </tr>\n",
       "    <tr>\n",
       "      <th>Product Click</th>\n",
       "      <td>7452</td>\n",
       "      <td>11.899971</td>\n",
       "    </tr>\n",
       "    <tr>\n",
       "      <th>Remove from Cart</th>\n",
       "      <td>1296</td>\n",
       "      <td>2.069560</td>\n",
       "    </tr>\n",
       "    <tr>\n",
       "      <th>Onsite Click</th>\n",
       "      <td>728</td>\n",
       "      <td>1.162531</td>\n",
       "    </tr>\n",
       "  </tbody>\n",
       "</table>\n",
       "</div>"
      ],
      "text/plain": [
       "                  count    percent\n",
       "raw_target                        \n",
       "Quickview Click   31025  49.543291\n",
       "Promotion Click   13014  20.781834\n",
       "Add to Cart        9107  14.542812\n",
       "Product Click      7452  11.899971\n",
       "Remove from Cart   1296   2.069560\n",
       "Onsite Click        728   1.162531"
      ]
     },
     "execution_count": 56,
     "metadata": {},
     "output_type": "execute_result"
    },
    {
     "data": {
      "image/png": "[encoded data removed]",
      "text/plain": [
       "<Figure size 640x480 with 1 Axes>"
      ]
     },
     "metadata": {},
     "output_type": "display_data"
    }
   ],
   "source": [
    "#distribution of events\n",
    "ax = sns.barplot(y = raw_target.value_counts().index, \n",
    "            x = raw_target.value_counts().values, \n",
    "            hue = raw_target.value_counts().index , \n",
    "            palette = sns.color_palette('husl'), dodge = False)\n",
    "plt.legend([])\n",
    "plt.xlabel(\"Count\")\n",
    "plt.ylabel(\"Event type\")\n",
    "plt.title(\"Count of Events, 10/2016\")\n",
    "\n",
    "event_counts = pd.DataFrame(raw_target.value_counts())\n",
    "event_counts['percent'] = event_counts['count'] /len(raw_target.index)*100\n",
    "event_counts.head(6)\n"
   ]
  }
 ],
 "metadata": {
  "kernelspec": {
   "display_name": "TensorFlow 2-11 (Local)",
   "language": "python",
   "name": "local-conda-env-tensorflow-tensorflow"
  },
  "language_info": {
   "codemirror_mode": {
    "name": "ipython",
    "version": 3
   },
   "file_extension": ".py",
   "mimetype": "text/x-python",
   "name": "python",
   "nbconvert_exporter": "python",
   "pygments_lexer": "ipython3",
   "version": "3.10.12"
  }
 },
 "nbformat": 4,
 "nbformat_minor": 5
}
