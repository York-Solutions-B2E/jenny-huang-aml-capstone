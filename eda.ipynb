{
 "cells": [
  {
   "cell_type": "code",
   "execution_count": 1,
   "id": "1c7da5e3-77f9-490c-bd60-82fc7143ffe7",
   "metadata": {},
   "outputs": [],
   "source": [
    "import pandas as pd\n",
    "import matplotlib.pyplot as plt\n",
    "import seaborn as sns\n",
    "import numpy as np"
   ]
  },
  {
   "cell_type": "code",
   "execution_count": 108,
   "id": "4a2cfcc8-e7e4-41f0-88d9-ab190221953c",
   "metadata": {},
   "outputs": [],
   "source": [
    "data = pd.read_csv('monthly_data_10.csv')"
   ]
  },
  {
   "cell_type": "code",
   "execution_count": null,
   "id": "62e73ef4-7c95-434e-a95d-fa6947f816e2",
   "metadata": {},
   "outputs": [],
   "source": [
    "\"\"\"After removing majority-null and duplicate columns, there are 46 features.\n",
    "\"\"\""
   ]
  },
  {
   "cell_type": "code",
   "execution_count": 112,
   "id": "50edfd24-0bb7-44f8-8365-d43f8d6ac718",
   "metadata": {},
   "outputs": [],
   "source": [
    "X = data.drop(['raw_target', 'target_encoded', 'product'], axis = 1) #product is already in there unnested\n",
    "y = binary_target"
   ]
  },
  {
   "cell_type": "code",
   "execution_count": 115,
   "id": "a891750d-3792-4407-b375-41dc75818d3b",
   "metadata": {},
   "outputs": [],
   "source": [
    "raw_target = data['raw_target']\n",
    "binary_target = data['target_encoded'] "
   ]
  },
  {
   "cell_type": "code",
   "execution_count": 114,
   "id": "0443715d-a145-4cfe-ab8b-0271993f4a01",
   "metadata": {},
   "outputs": [],
   "source": [
    "X.shape"
   ]
  },
  {
   "cell_type": "code",
   "execution_count": 114,
   "id": "cfb56fc8-ca7b-4349-9248-6ce295accadc",
   "metadata": {},
   "outputs": [
    {
     "data": {
      "text/plain": [
       "(66514, 46)"
      ]
     },
     "execution_count": 114,
     "metadata": {},
     "output_type": "execute_result"
    }
   ],
   "source": [
    "\"\"\"When examining the target, there are 13.69% Add to Cart events and 86.31% other events\"\"\""
   ]
  },
  {
   "cell_type": "code",
   "execution_count": 111,
   "id": "1cde8f2d-f256-4398-b579-6e18269dff51",
   "metadata": {},
   "outputs": [
    {
     "data": {
      "text/html": [
       "<div>\n",
       "<style scoped>\n",
       "    .dataframe tbody tr th:only-of-type {\n",
       "        vertical-align: middle;\n",
       "    }\n",
       "\n",
       "    .dataframe tbody tr th {\n",
       "        vertical-align: top;\n",
       "    }\n",
       "\n",
       "    .dataframe thead th {\n",
       "        text-align: right;\n",
       "    }\n",
       "</style>\n",
       "<table border=\"1\" class=\"dataframe\">\n",
       "  <thead>\n",
       "    <tr style=\"text-align: right;\">\n",
       "      <th></th>\n",
       "      <th>count</th>\n",
       "      <th>percent</th>\n",
       "    </tr>\n",
       "    <tr>\n",
       "      <th>raw_target</th>\n",
       "      <th></th>\n",
       "      <th></th>\n",
       "    </tr>\n",
       "  </thead>\n",
       "  <tbody>\n",
       "    <tr>\n",
       "      <th>Quickview Click</th>\n",
       "      <td>31025</td>\n",
       "      <td>46.644315</td>\n",
       "    </tr>\n",
       "    <tr>\n",
       "      <th>Promotion Click</th>\n",
       "      <td>13014</td>\n",
       "      <td>19.565806</td>\n",
       "    </tr>\n",
       "    <tr>\n",
       "      <th>Add to Cart</th>\n",
       "      <td>9107</td>\n",
       "      <td>13.691854</td>\n",
       "    </tr>\n",
       "    <tr>\n",
       "      <th>Product Click</th>\n",
       "      <td>7452</td>\n",
       "      <td>11.203656</td>\n",
       "    </tr>\n",
       "    <tr>\n",
       "      <th>Onsite Click</th>\n",
       "      <td>4620</td>\n",
       "      <td>6.945906</td>\n",
       "    </tr>\n",
       "    <tr>\n",
       "      <th>Remove from Cart</th>\n",
       "      <td>1296</td>\n",
       "      <td>1.948462</td>\n",
       "    </tr>\n",
       "  </tbody>\n",
       "</table>\n",
       "</div>"
      ],
      "text/plain": [
       "                  count    percent\n",
       "raw_target                        \n",
       "Quickview Click   31025  46.644315\n",
       "Promotion Click   13014  19.565806\n",
       "Add to Cart        9107  13.691854\n",
       "Product Click      7452  11.203656\n",
       "Onsite Click       4620   6.945906\n",
       "Remove from Cart   1296   1.948462"
      ]
     },
     "execution_count": 111,
     "metadata": {},
     "output_type": "execute_result"
    },
    {
     "data": {
      "image/png": "[encoded data removed]",
      "text/plain": [
       "<Figure size 640x480 with 1 Axes>"
      ]
     },
     "metadata": {},
     "output_type": "display_data"
    }
   ],
   "source": [
    "#distribution of events\n",
    "ax = sns.barplot(y = raw_target.value_counts().index, \n",
    "            x = raw_target.value_counts().values, \n",
    "            hue = raw_target.value_counts().index , \n",
    "            palette = sns.color_palette('husl'), dodge = False)\n",
    "plt.legend([])\n",
    "plt.xlabel(\"Count\")\n",
    "plt.ylabel(\"Event type\")\n",
    "plt.title(\"Count of Events, 10/2016\")\n",
    "\n",
    "event_counts = pd.DataFrame(raw_target.value_counts())\n",
    "event_counts['percent'] = event_counts['count'] /len(raw_target.index)*100\n",
    "event_counts.head(6)\n"
   ]
  },
  {
   "cell_type": "code",
   "execution_count": 116,
   "id": "f96cbe64-4619-45d6-90bc-b633bc22f698",
   "metadata": {},
   "outputs": [
    {
     "data": {
      "text/plain": [
       "Index(['date', 'visitId', 'productSKU', 'v2ProductName', 'v2ProductCategory',\n",
       "       'productPrice', 'localProductPrice', 'isClick', 'productListName',\n",
       "       'productListPosition', 'hitNumber', 'time', 'hour', 'minute',\n",
       "       'page.pagePath', 'page.hostname', 'page.pageTitle',\n",
       "       'page.pagePathLevel1', 'page.pagePathLevel2', 'page.pagePathLevel3',\n",
       "       'appInfo.screenName', 'appInfo.landingScreenName',\n",
       "       'appInfo.exitScreenName', 'eventInfo.eventCategory',\n",
       "       'eventInfo.eventAction', 'eventInfo.eventLabel',\n",
       "       'eCommerceAction.action_type', 'social.hasSocialSourceReferral',\n",
       "       'contentGroup.contentGroup2', 'contentGroup.previousContentGroup2',\n",
       "       'source', 'browser', 'operatingSystem', 'isMobile', 'deviceCategory',\n",
       "       'continent', 'subContinent', 'country', 'region', 'metro', 'city',\n",
       "       'networkDomain', 'hits', 'pageviews', 'timeOnSite', 'newVisits'],\n",
       "      dtype='object')"
      ]
     },
     "execution_count": 116,
     "metadata": {},
     "output_type": "execute_result"
    }
   ],
   "source": [
    "X.columns"
   ]
  },
  {
   "cell_type": "code",
   "execution_count": 138,
   "id": "9c95f0ff-49f7-4737-aa8c-aabee7dc2268",
   "metadata": {},
   "outputs": [
    {
     "data": {
      "text/html": [
       "<div>\n",
       "<style scoped>\n",
       "    .dataframe tbody tr th:only-of-type {\n",
       "        vertical-align: middle;\n",
       "    }\n",
       "\n",
       "    .dataframe tbody tr th {\n",
       "        vertical-align: top;\n",
       "    }\n",
       "\n",
       "    .dataframe thead th {\n",
       "        text-align: right;\n",
       "    }\n",
       "</style>\n",
       "<table border=\"1\" class=\"dataframe\">\n",
       "  <thead>\n",
       "    <tr style=\"text-align: right;\">\n",
       "      <th></th>\n",
       "      <th>productListPosition</th>\n",
       "      <th>raw_target</th>\n",
       "    </tr>\n",
       "  </thead>\n",
       "  <tbody>\n",
       "    <tr>\n",
       "      <th>0</th>\n",
       "      <td>NaN</td>\n",
       "      <td>Promotion Click</td>\n",
       "    </tr>\n",
       "    <tr>\n",
       "      <th>1</th>\n",
       "      <td>NaN</td>\n",
       "      <td>Promotion Click</td>\n",
       "    </tr>\n",
       "    <tr>\n",
       "      <th>2</th>\n",
       "      <td>NaN</td>\n",
       "      <td>Promotion Click</td>\n",
       "    </tr>\n",
       "    <tr>\n",
       "      <th>3</th>\n",
       "      <td>NaN</td>\n",
       "      <td>Promotion Click</td>\n",
       "    </tr>\n",
       "    <tr>\n",
       "      <th>4</th>\n",
       "      <td>NaN</td>\n",
       "      <td>Promotion Click</td>\n",
       "    </tr>\n",
       "    <tr>\n",
       "      <th>...</th>\n",
       "      <td>...</td>\n",
       "      <td>...</td>\n",
       "    </tr>\n",
       "    <tr>\n",
       "      <th>66509</th>\n",
       "      <td>10.0</td>\n",
       "      <td>Product Click</td>\n",
       "    </tr>\n",
       "    <tr>\n",
       "      <th>66510</th>\n",
       "      <td>0.0</td>\n",
       "      <td>Quickview Click</td>\n",
       "    </tr>\n",
       "    <tr>\n",
       "      <th>66511</th>\n",
       "      <td>0.0</td>\n",
       "      <td>Quickview Click</td>\n",
       "    </tr>\n",
       "    <tr>\n",
       "      <th>66512</th>\n",
       "      <td>0.0</td>\n",
       "      <td>Quickview Click</td>\n",
       "    </tr>\n",
       "    <tr>\n",
       "      <th>66513</th>\n",
       "      <td>0.0</td>\n",
       "      <td>Add to Cart</td>\n",
       "    </tr>\n",
       "  </tbody>\n",
       "</table>\n",
       "<p>66514 rows × 2 columns</p>\n",
       "</div>"
      ],
      "text/plain": [
       "       productListPosition       raw_target\n",
       "0                      NaN  Promotion Click\n",
       "1                      NaN  Promotion Click\n",
       "2                      NaN  Promotion Click\n",
       "3                      NaN  Promotion Click\n",
       "4                      NaN  Promotion Click\n",
       "...                    ...              ...\n",
       "66509                 10.0    Product Click\n",
       "66510                  0.0  Quickview Click\n",
       "66511                  0.0  Quickview Click\n",
       "66512                  0.0  Quickview Click\n",
       "66513                  0.0      Add to Cart\n",
       "\n",
       "[66514 rows x 2 columns]"
      ]
     },
     "execution_count": 138,
     "metadata": {},
     "output_type": "execute_result"
    }
   ],
   "source": [
    "listpos = pd.concat([X['productListPosition'], raw_target], axis=1)"
   ]
  },
  {
   "cell_type": "code",
   "execution_count": 117,
   "id": "f5d0f859-d7bf-493e-8715-8b0d12dd5580",
   "metadata": {},
   "outputs": [],
   "source": [
    "temp_x = X['timeOnSite']"
   ]
  },
  {
   "cell_type": "code",
   "execution_count": 118,
   "id": "95d1e32f-43fe-410e-8707-535da367ea87",
   "metadata": {},
   "outputs": [],
   "source": [
    "sitetime = pd.concat([temp_x, raw_target], axis = 1)"
   ]
  },
  {
   "cell_type": "code",
   "execution_count": 159,
   "id": "13f01f8b-6e62-4a13-abf4-888ea2fb96b8",
   "metadata": {},
   "outputs": [
    {
     "data": {
      "text/plain": [
       "Text(0.5, 1.02, '*Outliers excluded')"
      ]
     },
     "execution_count": 159,
     "metadata": {},
     "output_type": "execute_result"
    },
    {
     "data": {
      "image/png": "[encoded data removed]",
      "text/plain": [
       "<Figure size 640x480 with 1 Axes>"
      ]
     },
     "metadata": {},
     "output_type": "display_data"
    }
   ],
   "source": [
    "sns.boxplot(x=raw_target, y = X['timeOnSite'], showfliers = False)\n",
    "plt.xticks(rotation = 90)\n",
    "plt.title(\"Distribution of Time on Site by Event Type\", pad = 20)\n",
    "plt.text(0.5, 1.02, '*Outliers excluded', horizontalalignment='center', verticalalignment='center', transform=plt.gca().transAxes)\n"
   ]
  },
  {
   "cell_type": "code",
   "execution_count": null,
   "id": "aecb9f59-4b21-42e9-a003-565a8093ad36",
   "metadata": {},
   "outputs": [],
   "source": []
  },
  {
   "cell_type": "code",
   "execution_count": null,
   "id": "7f177372-b102-477d-b057-34e2e8f438dc",
   "metadata": {},
   "outputs": [],
   "source": []
  }
 ],
 "metadata": {
  "kernelspec": {
   "display_name": "TensorFlow 2-11 (Local)",
   "language": "python",
   "name": "local-conda-env-tensorflow-tensorflow"
  },
  "language_info": {
   "codemirror_mode": {
    "name": "ipython",
    "version": 3
   },
   "file_extension": ".py",
   "mimetype": "text/x-python",
   "name": "python",
   "nbconvert_exporter": "python",
   "pygments_lexer": "ipython3",
   "version": "3.10.12"
  }
 },
 "nbformat": 4,
 "nbformat_minor": 5
}
