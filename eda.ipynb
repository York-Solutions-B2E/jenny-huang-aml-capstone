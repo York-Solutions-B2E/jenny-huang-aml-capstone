{
 "cells": [
  {
   "cell_type": "code",
   "execution_count": 1,
   "id": "1c7da5e3-77f9-490c-bd60-82fc7143ffe7",
   "metadata": {},
   "outputs": [],
   "source": [
    "import pandas as pd\n",
    "import matplotlib.pyplot as plt\n",
    "import seaborn as sns\n",
    "import numpy as np"
   ]
  },
  {
   "cell_type": "code",
   "execution_count": 2,
   "id": "964fa9e0-7849-4ad1-856b-6fda57b14021",
   "metadata": {},
   "outputs": [],
   "source": [
    "data = pd.read_csv('monthly_data_10.csv')"
   ]
  },
  {
   "cell_type": "code",
   "execution_count": 38,
   "id": "a891750d-3792-4407-b375-41dc75818d3b",
   "metadata": {},
   "outputs": [],
   "source": [
    "raw_target = data['raw_target']\n",
    "binary_target = data['target_encoded'] "
   ]
  },
  {
   "cell_type": "code",
   "execution_count": null,
   "id": "1cde8f2d-f256-4398-b579-6e18269dff51",
   "metadata": {},
   "outputs": [],
   "source": []
  }
 ],
 "metadata": {
  "kernelspec": {
   "display_name": "TensorFlow 2-11 (Local)",
   "language": "python",
   "name": "local-conda-env-tensorflow-tensorflow"
  },
  "language_info": {
   "codemirror_mode": {
    "name": "ipython",
    "version": 3
   },
   "file_extension": ".py",
   "mimetype": "text/x-python",
   "name": "python",
   "nbconvert_exporter": "python",
   "pygments_lexer": "ipython3",
   "version": "3.10.12"
  }
 },
 "nbformat": 4,
 "nbformat_minor": 5
}
