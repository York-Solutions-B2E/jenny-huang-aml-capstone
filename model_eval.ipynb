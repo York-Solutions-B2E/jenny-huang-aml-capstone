{
 "cells": [
  {
   "cell_type": "code",
   "execution_count": 21,
   "id": "94efe302-6dff-4dc6-9bee-d07991753cbb",
   "metadata": {},
   "outputs": [],
   "source": [
    "import os\n",
    "import pandas as pd\n",
    "from google.cloud import aiplatform\n",
    "from sklearn.metrics import accuracy_score, recall_score, precision_score, f1_score\n",
    "from sklearn.model_selection import train_test_split\n",
    "import seaborn as sns\n",
    "import matplotlib.pyplot as plt"
   ]
  },
  {
   "cell_type": "code",
   "execution_count": 8,
   "id": "d1063b68-c0c4-4ca0-b21b-b7d9851df1d4",
   "metadata": {},
   "outputs": [],
   "source": [
    "def evaluate_results(data, target, endpt):\n",
    "    data = data.astype(str)\n",
    "    X = data.drop(target, axis = 1)\n",
    "    y = data[target]\n",
    "    y_pred = pd.Series()\n",
    "    for i in range(len(data)):\n",
    "        if i % 1000 == 0:\n",
    "            print(i) #keep track of progress\n",
    "        test = dict(X.iloc[i])\n",
    "        try:\n",
    "            results = endpt.predict([test])\n",
    "            if results[0][0]['scores'][0] > 0.5:\n",
    "                y_pred[i] = 0\n",
    "            else:\n",
    "                y_pred[i] = 1\n",
    "        except Exception: \n",
    "            print(f\"Skipping{i}\")\n",
    "            continue\n",
    "    return y.astype(int), y_pred\n",
    "    "
   ]
  },
  {
   "cell_type": "code",
   "execution_count": 3,
   "id": "abcd1c24-c560-4dff-bf57-83610f769e8b",
   "metadata": {},
   "outputs": [],
   "source": [
    "def get_stats(y_true, y_pred):\n",
    "    acc = accuracy_score(y_true, y_pred)\n",
    "    pre = precision_score(y_true, y_pred)\n",
    "    re = recall_score(y_true, y_pred)\n",
    "    f = f1_score(y_true, y_pred)\n",
    "    return [acc, pre, re, f]"
   ]
  },
  {
   "cell_type": "code",
   "execution_count": 4,
   "id": "086a96e5-ec02-4b68-b015-574554ebaa00",
   "metadata": {},
   "outputs": [],
   "source": [
    "kf_endpoint = aiplatform.Endpoint(endpoint_name = 'projects/319407066227/locations/us-east1/endpoints/4942339951225208832')"
   ]
  },
  {
   "cell_type": "code",
   "execution_count": 19,
   "id": "68c62d88-4f90-4200-b4cd-0491c386a3f2",
   "metadata": {},
   "outputs": [],
   "source": [
    "kf_test = pd.read_csv('kf_test_317.csv')\n",
    "\n",
    "kf_test.shape"
   ]
  },
  {
   "cell_type": "code",
   "execution_count": 21,
   "id": "e342ff28-a68a-4acc-9665-3e75838ca697",
   "metadata": {},
   "outputs": [],
   "source": [
    "kf_results = evaluate_results(kf_test, 'is_addtocart', kf_endpoint)\n",
    "\n",
    "kf_true = kf_results[0].astype(int)\n",
    "kf_pred = kf_results[1]"
   ]
  },
  {
   "cell_type": "code",
   "execution_count": 5,
   "id": "0d16d676-b6a9-44bc-8278-21991743ba23",
   "metadata": {},
   "outputs": [],
   "source": [
    "acc = accuracy_score(kf_true, kf_pred)\n",
    "print(acc)"
   ]
  },
  {
   "cell_type": "code",
   "execution_count": 5,
   "id": "d42f5a26-8f0b-417a-b724-fca0008901d4",
   "metadata": {},
   "outputs": [],
   "source": [
    "re = recall_score(kf_true, kf_pred)\n",
    "print(re)"
   ]
  },
  {
   "cell_type": "code",
   "execution_count": null,
   "id": "3c6ad2ea-66b3-4c7b-918e-71de80ca909d",
   "metadata": {},
   "outputs": [],
   "source": [
    "f1 = f1_score(kf_true, kf_pred)\n",
    "print(f1)"
   ]
  },
  {
   "cell_type": "code",
   "execution_count": 26,
   "id": "09f350cf-6e6d-4f7c-a2df-5eaa0dfbd51b",
   "metadata": {},
   "outputs": [
    {
     "data": {
      "text/plain": [
       "is_addtocart\n",
       "0    29162\n",
       "1     5987\n",
       "Name: count, dtype: int64"
      ]
     },
     "execution_count": 26,
     "metadata": {},
     "output_type": "execute_result"
    }
   ],
   "source": [
    "kf_true.value_counts()"
   ]
  },
  {
   "cell_type": "code",
   "execution_count": 32,
   "id": "33046575-a32d-4b9d-99c5-a5c8d22ee619",
   "metadata": {},
   "outputs": [],
   "source": [
    "#export to csv\n",
    "kf_test['prediction'] = kf_pred\n",
    "kf_test = kf_test.drop(0, axis =1)\n",
    "kf_test.to_csv('predictions_317.csv')"
   ]
  },
  {
   "cell_type": "code",
   "execution_count": null,
   "id": "f50879f2-d599-4de5-b7da-d3fc80d401dd",
   "metadata": {},
   "outputs": [
    {
     "name": "stdout",
     "output_type": "stream",
     "text": [
      "0\n"
     ]
    }
   ],
   "source": [
    "#testing data for all 2017 \n",
    "stats_df = pd.DataFrame(columns = ['month', 'count', 'acc', 'pre', 're', 'f1'])\n",
    "for i in range (1,13): \n",
    "    df = pd.read_csv(f'validation_data/kf_test_{i}17.csv')\n",
    "    test1, test2 = train_test_split(df, test_size = 0.5, random_state = 15) #only use half the data from each\n",
    "    y_true, y_pred = evaluate_results(test1, 'is_addtocart', kf_endpoint)\n",
    "    stats = get_stats(y_true, y_pred)\n",
    "    stats_df.loc[len(stats_df)] = [i] + [len(y_true)] + stats\n",
    "    print (f\"done with {i}\")  "
   ]
  },
  {
   "cell_type": "code",
   "execution_count": 35,
   "id": "08de09ae-4359-47be-a66f-67ac6dccf665",
   "metadata": {},
   "outputs": [],
   "source": [
    "stats_df.to_csv('validation_stats_2017.csv', index = False)"
   ]
  },
  {
   "cell_type": "code",
   "execution_count": 23,
   "id": "b7fc8661-ca60-47f0-a086-ebfe522509d0",
   "metadata": {},
   "outputs": [],
   "source": [
    "stats_df = pd.read_csv('validation_stats_2017.csv')"
   ]
  },
  {
   "cell_type": "code",
   "execution_count": 32,
   "id": "17a7c79c-3e31-407f-8d42-b1b1cecb9068",
   "metadata": {},
   "outputs": [],
   "source": [
    "stats_df = stats_df.drop('Unnamed: 0', axis = 1)"
   ]
  },
  {
   "cell_type": "code",
   "execution_count": 36,
   "id": "274d5f10-cb82-4039-9e15-d58113d82252",
   "metadata": {},
   "outputs": [
    {
     "data": {
      "text/html": [
       "<div>\n",
       "<style scoped>\n",
       "    .dataframe tbody tr th:only-of-type {\n",
       "        vertical-align: middle;\n",
       "    }\n",
       "\n",
       "    .dataframe tbody tr th {\n",
       "        vertical-align: top;\n",
       "    }\n",
       "\n",
       "    .dataframe thead th {\n",
       "        text-align: right;\n",
       "    }\n",
       "</style>\n",
       "<table border=\"1\" class=\"dataframe\">\n",
       "  <thead>\n",
       "    <tr style=\"text-align: right;\">\n",
       "      <th></th>\n",
       "      <th>month</th>\n",
       "      <th>count</th>\n",
       "      <th>acc</th>\n",
       "      <th>pre</th>\n",
       "      <th>re</th>\n",
       "      <th>f1</th>\n",
       "    </tr>\n",
       "  </thead>\n",
       "  <tbody>\n",
       "    <tr>\n",
       "      <th>0</th>\n",
       "      <td>1</td>\n",
       "      <td>15528.0</td>\n",
       "      <td>1.000000</td>\n",
       "      <td>1.0</td>\n",
       "      <td>1.000000</td>\n",
       "      <td>1.000000</td>\n",
       "    </tr>\n",
       "    <tr>\n",
       "      <th>1</th>\n",
       "      <td>2</td>\n",
       "      <td>14144.0</td>\n",
       "      <td>1.000000</td>\n",
       "      <td>1.0</td>\n",
       "      <td>1.000000</td>\n",
       "      <td>1.000000</td>\n",
       "    </tr>\n",
       "    <tr>\n",
       "      <th>2</th>\n",
       "      <td>3</td>\n",
       "      <td>17574.0</td>\n",
       "      <td>0.999943</td>\n",
       "      <td>1.0</td>\n",
       "      <td>0.999662</td>\n",
       "      <td>0.999831</td>\n",
       "    </tr>\n",
       "    <tr>\n",
       "      <th>3</th>\n",
       "      <td>4</td>\n",
       "      <td>17017.0</td>\n",
       "      <td>0.999824</td>\n",
       "      <td>1.0</td>\n",
       "      <td>0.998965</td>\n",
       "      <td>0.999482</td>\n",
       "    </tr>\n",
       "    <tr>\n",
       "      <th>4</th>\n",
       "      <td>5</td>\n",
       "      <td>16760.0</td>\n",
       "      <td>0.999045</td>\n",
       "      <td>1.0</td>\n",
       "      <td>0.994326</td>\n",
       "      <td>0.997155</td>\n",
       "    </tr>\n",
       "    <tr>\n",
       "      <th>5</th>\n",
       "      <td>6</td>\n",
       "      <td>15419.0</td>\n",
       "      <td>0.999805</td>\n",
       "      <td>1.0</td>\n",
       "      <td>0.998875</td>\n",
       "      <td>0.999437</td>\n",
       "    </tr>\n",
       "    <tr>\n",
       "      <th>6</th>\n",
       "      <td>7</td>\n",
       "      <td>19183.0</td>\n",
       "      <td>0.999896</td>\n",
       "      <td>1.0</td>\n",
       "      <td>0.999386</td>\n",
       "      <td>0.999693</td>\n",
       "    </tr>\n",
       "    <tr>\n",
       "      <th>7</th>\n",
       "      <td>8</td>\n",
       "      <td>1336.0</td>\n",
       "      <td>1.000000</td>\n",
       "      <td>1.0</td>\n",
       "      <td>1.000000</td>\n",
       "      <td>1.000000</td>\n",
       "    </tr>\n",
       "  </tbody>\n",
       "</table>\n",
       "</div>"
      ],
      "text/plain": [
       "   month    count       acc  pre        re        f1\n",
       "0      1  15528.0  1.000000  1.0  1.000000  1.000000\n",
       "1      2  14144.0  1.000000  1.0  1.000000  1.000000\n",
       "2      3  17574.0  0.999943  1.0  0.999662  0.999831\n",
       "3      4  17017.0  0.999824  1.0  0.998965  0.999482\n",
       "4      5  16760.0  0.999045  1.0  0.994326  0.997155\n",
       "5      6  15419.0  0.999805  1.0  0.998875  0.999437\n",
       "6      7  19183.0  0.999896  1.0  0.999386  0.999693\n",
       "7      8   1336.0  1.000000  1.0  1.000000  1.000000"
      ]
     },
     "execution_count": 36,
     "metadata": {},
     "output_type": "execute_result"
    }
   ],
   "source": [
    "stats_df"
   ]
  },
  {
   "cell_type": "code",
   "execution_count": 42,
   "id": "0ca2b2ab-23b7-4cdf-9f5e-bd81bf20249a",
   "metadata": {},
   "outputs": [],
   "source": [
    "df_melted = pd.melt(stats_df.drop('count', axis =1), id_vars=['month'], var_name='Series', value_name='Values')"
   ]
  },
  {
   "cell_type": "code",
   "execution_count": 48,
   "id": "25d1a875-8334-4311-aa63-47e8a14a4273",
   "metadata": {},
   "outputs": [
    {
     "data": {
      "text/plain": [
       "Text(0.5, 1.0, 'Performance Metrics by Month, 2017')"
      ]
     },
     "execution_count": 48,
     "metadata": {},
     "output_type": "execute_result"
    },
    {
     "data": {
      "image/png": "[encoded data removed]",
      "text/plain": [
       "<Figure size 640x480 with 1 Axes>"
      ]
     },
     "metadata": {},
     "output_type": "display_data"
    }
   ],
   "source": [
    "sns.barplot(x='month', y='Values', hue='Series', data=df_melted, palette='viridis')\n",
    "plt.ylim(0.96, 1.0)\n",
    "plt.ylabel(\"Performance\")\n",
    "plt.title(\"Performance Metrics by Month, 2017\")"
   ]
  },
  {
   "cell_type": "code",
   "execution_count": 49,
   "id": "8d143e7d-5ef0-4999-9b14-6f9ddac89bc1",
   "metadata": {},
   "outputs": [
    {
     "data": {
      "text/plain": [
       "<Figure size 640x480 with 0 Axes>"
      ]
     },
     "metadata": {},
     "output_type": "display_data"
    }
   ],
   "source": [
    "plt.savefig('figures/validation_performance.png', bbox_inches=\"tight\")"
   ]
  },
  {
   "cell_type": "code",
   "execution_count": null,
   "id": "8be411a1-8392-43be-9737-2fdcfe117d3e",
   "metadata": {},
   "outputs": [],
   "source": []
  }
 ],
 "metadata": {
  "kernelspec": {
   "display_name": "TensorFlow 2-11 (Local)",
   "language": "python",
   "name": "local-conda-env-tensorflow-tensorflow"
  },
  "language_info": {
   "codemirror_mode": {
    "name": "ipython",
    "version": 3
   },
   "file_extension": ".py",
   "mimetype": "text/x-python",
   "name": "python",
   "nbconvert_exporter": "python",
   "pygments_lexer": "ipython3",
   "version": "3.10.12"
  }
 },
 "nbformat": 4,
 "nbformat_minor": 5
}
