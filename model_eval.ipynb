{
 "cells": [
  {
   "cell_type": "code",
   "execution_count": 37,
   "id": "94efe302-6dff-4dc6-9bee-d07991753cbb",
   "metadata": {},
   "outputs": [],
   "source": [
    "import os\n",
    "import pandas as pd\n",
    "from google.cloud import aiplatform\n",
    "from sklearn.metrics import accuracy_score, recall_score, precision_score, f1_score\n",
    "import seaborn as sns"
   ]
  },
  {
   "cell_type": "code",
   "execution_count": 3,
   "id": "d1063b68-c0c4-4ca0-b21b-b7d9851df1d4",
   "metadata": {},
   "outputs": [],
   "source": [
    "def evaluate_results(data, target, endpt):\n",
    "    data = data.astype(str)\n",
    "    X = data.drop(target, axis = 1)\n",
    "    y = data[target]\n",
    "    y_pred = pd.Series()\n",
    "    for i in range(len(data)):\n",
    "        test = dict(X.iloc[i])\n",
    "        try:\n",
    "            results = endpt.predict([test])\n",
    "            if results[0][0]['scores'][0] > 0.5:\n",
    "                y_pred[i] = 0\n",
    "            else:\n",
    "                y_pred[i] = 1\n",
    "        except Exception: \n",
    "            print(f\"Skipping{i}\")\n",
    "            continue\n",
    "    return y, y_pred\n",
    "            \n",
    "            \n",
    "    \n",
    "    "
   ]
  },
  {
   "cell_type": "code",
   "execution_count": 4,
   "id": "7ef772c8-fa2d-4352-891f-6e18b24e9c92",
   "metadata": {},
   "outputs": [],
   "source": [
    "kf_endpoint = aiplatform.Endpoint(endpoint_name = 'projects/319407066227/locations/us-east1/endpoints/4942339951225208832')"
   ]
  },
  {
   "cell_type": "code",
   "execution_count": 5,
   "id": "f2a27244-5d56-43d0-9b39-c2d1d4d0c6a2",
   "metadata": {},
   "outputs": [],
   "source": [
    "kf_test = pd.read_csv('kf_test_317.csv')"
   ]
  },
  {
   "cell_type": "code",
   "execution_count": 19,
   "id": "acf14ea6-a94d-4ffc-a117-aeb035938eb3",
   "metadata": {},
   "outputs": [
    {
     "data": {
      "text/plain": [
       "(35149, 12)"
      ]
     },
     "execution_count": 19,
     "metadata": {},
     "output_type": "execute_result"
    }
   ],
   "source": [
    "kf_test.shape"
   ]
  },
  {
   "cell_type": "code",
   "execution_count": 20,
   "id": "4862d0f5-42aa-4b1e-b771-9a997ba712f7",
   "metadata": {},
   "outputs": [],
   "source": [
    "kf_results = evaluate_results(kf_test, 'is_addtocart', kf_endpoint)"
   ]
  },
  {
   "cell_type": "code",
   "execution_count": 21,
   "id": "53a63848-eb4c-47ca-b0f6-66e8679cf6de",
   "metadata": {},
   "outputs": [],
   "source": [
    "kf_true = kf_results[0].astype(int)\n",
    "kf_pred = kf_results[1]"
   ]
  },
  {
   "cell_type": "code",
   "execution_count": 22,
   "id": "d000ec03-5f4e-4a79-95a0-6b6f156083a4",
   "metadata": {},
   "outputs": [],
   "source": [
    "acc = accuracy_score(kf_true, kf_pred)"
   ]
  },
  {
   "cell_type": "code",
   "execution_count": 23,
   "id": "5620cf93-0ebd-4904-af99-7bd9b8ce0423",
   "metadata": {},
   "outputs": [
    {
     "data": {
      "text/plain": [
       "0.9999715496884691"
      ]
     },
     "execution_count": 23,
     "metadata": {},
     "output_type": "execute_result"
    }
   ],
   "source": [
    "acc"
   ]
  },
  {
   "cell_type": "code",
   "execution_count": 16,
   "id": "2cda5ecc-93c7-419b-a101-dd610500d937",
   "metadata": {},
   "outputs": [],
   "source": [
    "re = recall_score(kf_true, kf_pred)"
   ]
  },
  {
   "cell_type": "code",
   "execution_count": 17,
   "id": "d4f226f5-bdc5-4249-a364-2914dc9267cf",
   "metadata": {},
   "outputs": [
    {
     "data": {
      "text/plain": [
       "1.0"
      ]
     },
     "execution_count": 17,
     "metadata": {},
     "output_type": "execute_result"
    }
   ],
   "source": [
    "re"
   ]
  },
  {
   "cell_type": "code",
   "execution_count": 26,
   "id": "09f350cf-6e6d-4f7c-a2df-5eaa0dfbd51b",
   "metadata": {},
   "outputs": [
    {
     "data": {
      "text/plain": [
       "is_addtocart\n",
       "0    29162\n",
       "1     5987\n",
       "Name: count, dtype: int64"
      ]
     },
     "execution_count": 26,
     "metadata": {},
     "output_type": "execute_result"
    }
   ],
   "source": [
    "kf_true.value_counts()"
   ]
  },
  {
   "cell_type": "code",
   "execution_count": 29,
   "id": "31ab0326-1a54-4d78-b869-4c693cd8f02a",
   "metadata": {},
   "outputs": [],
   "source": [
    "kf_test['prediction'] = kf_pred"
   ]
  },
  {
   "cell_type": "code",
   "execution_count": 32,
   "id": "b15d76b0-27c2-4e4f-be6b-bc37cf9deae7",
   "metadata": {},
   "outputs": [],
   "source": [
    "kf_test = kf_test.drop(0, axis =1)"
   ]
  },
  {
   "cell_type": "code",
   "execution_count": 33,
   "id": "2e8d9758-caf8-4803-b1b9-415c8843834c",
   "metadata": {},
   "outputs": [],
   "source": [
    "kf_test.to_csv('predictions_317.csv')"
   ]
  },
  {
   "cell_type": "code",
   "execution_count": 35,
   "id": "718af4cd-8bc2-4d40-97d7-c9d4ef3cff5a",
   "metadata": {},
   "outputs": [],
   "source": [
    "f1 = f1_score(kf_true, kf_pred)"
   ]
  },
  {
   "cell_type": "code",
   "execution_count": 36,
   "id": "9cda8800-5b49-4bbe-aa98-8cceec8f5163",
   "metadata": {},
   "outputs": [
    {
     "data": {
      "text/plain": [
       "0.9999164787438404"
      ]
     },
     "execution_count": 36,
     "metadata": {},
     "output_type": "execute_result"
    }
   ],
   "source": [
    "f1"
   ]
  },
  {
   "cell_type": "code",
   "execution_count": null,
   "id": "6f6473b3-5714-4c5e-a9d9-06e7d6d6fcd2",
   "metadata": {},
   "outputs": [],
   "source": []
  }
 ],
 "metadata": {
  "kernelspec": {
   "display_name": "TensorFlow 2-11 (Local)",
   "language": "python",
   "name": "local-conda-env-tensorflow-tensorflow"
  },
  "language_info": {
   "codemirror_mode": {
    "name": "ipython",
    "version": 3
   },
   "file_extension": ".py",
   "mimetype": "text/x-python",
   "name": "python",
   "nbconvert_exporter": "python",
   "pygments_lexer": "ipython3",
   "version": "3.10.12"
  }
 },
 "nbformat": 4,
 "nbformat_minor": 5
}
