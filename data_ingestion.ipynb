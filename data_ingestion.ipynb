{
 "cells": [
  {
   "cell_type": "code",
   "execution_count": 25,
   "id": "f5dbcaed-3aeb-4d28-85f7-ff9476aec307",
   "metadata": {},
   "outputs": [],
   "source": [
    "from google.cloud import bigquery\n",
    "import pandas as pd\n",
    "\n",
    "import numpy as np"
   ]
  },
  {
   "cell_type": "code",
   "execution_count": null,
   "id": "a1d82e88-91c1-4807-a83e-c74ef0191037",
   "metadata": {},
   "outputs": [],
   "source": []
  },
  {
   "cell_type": "code",
   "execution_count": 151,
   "id": "2cdf511d-cd98-4fa1-9f1c-fc08f7f3e019",
   "metadata": {},
   "outputs": [],
   "source": [
    "#get data for a given month as dataframe\n",
    "def get_month_data(year: int, month: int, select_cols: str): \n",
    "    #get correct number of days based on month\n",
    "    match month:\n",
    "        case 2: \n",
    "            max_days = 28\n",
    "        case 1 | 3 | 5 | 7 | 8 | 10 | 12:\n",
    "            max_days = 31\n",
    "        case 4 | 6 | 9 | 11:\n",
    "            max_days = 30\n",
    "    #write select statement given columns \n",
    "    statement = f\"\"\"SELECT {select_cols}\n",
    "        FROM `bigquery-public-data.google_analytics_sample.ga_sessions_*`, UNNEST(hits) as hits WHERE\n",
    "        _TABLE_SUFFIX BETWEEN FORMAT_DATE('%Y%m%d', '{year}-{month}-01') AND FORMAT_DATE('%Y%m%d', '{year}-{month}-{max_days}')\n",
    "        AND eventInfo.eventAction IS NOT NULL\n",
    "        ORDER BY date ASC;\"\"\" \n",
    "        #initialize bigquery connection\n",
    "    client = bigquery.Client()\n",
    "    job_config = bigquery.QueryJobConfig()\n",
    "    query_job = client.query(statement, job_config=job_config)\n",
    "    results = query_job.result().to_dataframe()\n",
    "    return(results)\n",
    "\n"
   ]
  },
  {
   "cell_type": "code",
   "execution_count": 182,
   "id": "9e02ea58-3ef1-4069-8fbe-8cd05b1be3cc",
   "metadata": {},
   "outputs": [],
   "source": [
    "#flatten JSON records\n",
    "def flatten(df, *cols):\n",
    "    for col in cols:\n",
    "        temp = pd.json_normalize(df[col])\n",
    "        df = pd.concat([df, temp], axis = 1)\n",
    "        df = df.drop(col, axis = 1)\n",
    "    return df "
   ]
  },
  {
   "cell_type": "code",
   "execution_count": 181,
   "id": "0c57fada-c1bf-4a40-b622-a678625dc350",
   "metadata": {},
   "outputs": [],
   "source": [
    "#FIX ???\n",
    "#drop columns that are than 50% null or only have 1 unique value\n",
    "def drop_columns(df):\n",
    "    nulls = [None, '(not set)', '(not provided)', '(none)', '(not available in demo dataset)', np.nan] \n",
    "    for col in (df.columns):\n",
    "        #remove all nan only columns\n",
    "        if pd.isna(df[col]).all() or df[col].isin(nulls).all():\n",
    "            df = df.drop(col, axis =1)\n",
    "        #remove columns where >50% of values are null: \n",
    "        elif (df[col].isin(nulls).value_counts()[False]/len(df.index) < 0.5):\n",
    "            df = df.drop(col, axis = 1)\n",
    "        #remove all cols that only have 1 unique value \n",
    "        elif (len(df[col].astype(str).unique()) <= 1):\n",
    "            df = df.drop(col, axis =1)\n",
    "    return df"
   ]
  },
  {
   "cell_type": "code",
   "execution_count": 184,
   "id": "91158f8a-1786-4d63-a8fc-80e0df241290",
   "metadata": {},
   "outputs": [],
   "source": [
    "#preprocessing pipeline\n",
    "def preprocess(year, month, select_cols, *flatten_cols):\n",
    "    month_df = get_month_data(year, month, select_cols)\n",
    "    flatten_df = flatten(month_df, *flatten_cols)\n",
    "    dropped_df = drop_columns(flatten_df)\n",
    "    try:\n",
    "        dropped_df.to_csv(f'monthly_data_{month}.csv', mode = 'x', index= False)\n",
    "    except ValueError:\n",
    "        print('file already exists')"
   ]
  },
  {
   "cell_type": "code",
   "execution_count": null,
   "id": "401f5d82-8717-4b83-8a7a-14ff8c55dd35",
   "metadata": {},
   "outputs": [],
   "source": [
    "select_cols = \"\"\"date, visitId, totals, trafficSource, device, geoNetwork, hits, eventInfo.eventAction AS raw_target, \n",
    "        CASE\n",
    "        WHEN eventInfo.eventAction = 'Add to Cart' THEN 1\n",
    "        ELSE 0\n",
    "        END AS target_encoded\"\"\"\n",
    "preprocess(2016, 10, select_cols, 'hits', 'trafficSource', 'device', 'geoNetwork', 'totals')"
   ]
  },
  {
   "cell_type": "code",
   "execution_count": 185,
   "id": "e1d446ba-a490-4974-a9fe-7a548d6022f1",
   "metadata": {},
   "outputs": [],
   "source": [
    "preprocess(2017,3, select_cols, 'hits', 'trafficSource', 'device', 'geoNetwork', 'totals')"
   ]
  }
 ],
 "metadata": {
  "kernelspec": {
   "display_name": "TensorFlow 2-11 (Local)",
   "language": "python",
   "name": "local-conda-env-tensorflow-tensorflow"
  },
  "language_info": {
   "codemirror_mode": {
    "name": "ipython",
    "version": 3
   },
   "file_extension": ".py",
   "mimetype": "text/x-python",
   "name": "python",
   "nbconvert_exporter": "python",
   "pygments_lexer": "ipython3",
   "version": "3.10.12"
  }
 },
 "nbformat": 4,
 "nbformat_minor": 5
}
